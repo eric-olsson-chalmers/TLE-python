{
 "cells": [
  {
   "cell_type": "markdown",
   "id": "82440d20",
   "metadata": {},
   "source": [
    "# String Formatting\n",
    "\n",
    "one often wants to output a formatted string, consisting of values interpolated into a string\n",
    "some values..."
   ]
  },
  {
   "cell_type": "code",
   "execution_count": 107,
   "id": "2a484218",
   "metadata": {},
   "outputs": [],
   "source": [
    "name = 'Bob'\n",
    "age = 40"
   ]
  },
  {
   "cell_type": "markdown",
   "id": "f1d85b7e",
   "metadata": {},
   "source": [
    "naively, one might convert the values to strings and concatenate them together"
   ]
  },
  {
   "cell_type": "code",
   "execution_count": 108,
   "id": "3d4731c9",
   "metadata": {},
   "outputs": [
    {
     "data": {
      "text/plain": [
       "'Hello, my name is Bob and I am 40 years old'"
      ]
     },
     "execution_count": 108,
     "metadata": {},
     "output_type": "execute_result"
    }
   ],
   "source": [
    "'Hello, my name is ' + name + ' and I am '+ str(age) + ' years old'"
   ]
  },
  {
   "cell_type": "markdown",
   "id": "254a4445",
   "metadata": {},
   "source": [
    "python 2 introduced a first version of string formatting, similar to C's printf"
   ]
  },
  {
   "cell_type": "code",
   "execution_count": 109,
   "id": "edf8779e",
   "metadata": {},
   "outputs": [
    {
     "data": {
      "text/plain": [
       "'Hello, my name is Bob and I am 40 years old'"
      ]
     },
     "execution_count": 109,
     "metadata": {},
     "output_type": "execute_result"
    }
   ],
   "source": [
    "'Hello, my name is %s and I am %d years old' % (name, age)"
   ]
  },
  {
   "cell_type": "markdown",
   "id": "40f311e0",
   "metadata": {},
   "source": [
    "python 3 introduced a cleaner format"
   ]
  },
  {
   "cell_type": "code",
   "execution_count": 110,
   "id": "edfcb35c",
   "metadata": {},
   "outputs": [
    {
     "data": {
      "text/plain": [
       "'Hello, my name is Bob and I am 40 years old'"
      ]
     },
     "execution_count": 110,
     "metadata": {},
     "output_type": "execute_result"
    }
   ],
   "source": [
    "# python 3\n",
    "\n",
    "'Hello, my name is {} and I am {} years old'.format(name, age)"
   ]
  },
  {
   "cell_type": "markdown",
   "id": "6923f506",
   "metadata": {},
   "source": [
    "and python 3.6 introduced an even nicer format!"
   ]
  },
  {
   "cell_type": "code",
   "execution_count": 111,
   "id": "7e1eb641",
   "metadata": {},
   "outputs": [
    {
     "data": {
      "text/plain": [
       "'Hello, my name is Bob and I am 40 years old'"
      ]
     },
     "execution_count": 111,
     "metadata": {},
     "output_type": "execute_result"
    }
   ],
   "source": [
    "f'Hello, my name is {name} and I am {age} years old'"
   ]
  },
  {
   "cell_type": "markdown",
   "id": "29f83848",
   "metadata": {},
   "source": [
    "# List Comprehensions\n",
    "\n",
    "one might want to compute the prime numbers less than 100\n",
    "(very non-optimal solution)"
   ]
  },
  {
   "cell_type": "code",
   "execution_count": 112,
   "id": "9adcf123",
   "metadata": {},
   "outputs": [
    {
     "name": "stdout",
     "output_type": "stream",
     "text": [
      "[2, 3, 5, 7, 11, 13, 17, 19, 23, 29, 31, 37, 41, 43, 47, 53, 59, 61, 67, 71, 73, 79, 83, 89, 97]\n"
     ]
    }
   ],
   "source": [
    "primes = []\n",
    "\n",
    "for candidate in range(2, 100, 1):\n",
    "    prime = True\n",
    "    \n",
    "    for other in range(2, 100, 1):\n",
    "        if candidate % other == 0 and candidate != other:\n",
    "            prime = False\n",
    "            \n",
    "    if prime:\n",
    "        primes.append(candidate)\n",
    "        \n",
    "print(primes)"
   ]
  },
  {
   "attachments": {},
   "cell_type": "markdown",
   "id": "d19c1963",
   "metadata": {},
   "source": [
    "rewriting this with a list comprehension\n",
    "\n",
    "syntax: \n",
    "\n",
    "L = [mapping_expression for element in source_list if filter_expression]\n",
    "\n"
   ]
  },
  {
   "cell_type": "code",
   "execution_count": 113,
   "id": "ad745da6",
   "metadata": {},
   "outputs": [
    {
     "name": "stdout",
     "output_type": "stream",
     "text": [
      "[2, 3, 5, 7, 11, 13, 17, 19, 23, 29, 31, 37, 41, 43, 47, 53, 59, 61, 67, 71, 73, 79, 83, 89, 97]\n"
     ]
    }
   ],
   "source": [
    "ints = list(range(2, 100, 1))\n",
    "\n",
    "primes = [x for x in ints\n",
    "          if all(x % y != 0 for y in ints\n",
    "                 if x != y)]\n",
    "\n",
    "print(primes)"
   ]
  },
  {
   "cell_type": "code",
   "execution_count": 114,
   "id": "0e9f45cc",
   "metadata": {},
   "outputs": [
    {
     "name": "stdout",
     "output_type": "stream",
     "text": [
      "[2, 6, 10]\n"
     ]
    }
   ],
   "source": [
    "# rewrite this with list comprehensions\n",
    "# source: https://treyhunner.com/2015/12/python-list-comprehensions-now-in-color/\n",
    "\n",
    "numbers = [1, 2, 3, 4, 5]\n",
    "\n",
    "doubled_odds = []\n",
    "for n in numbers:\n",
    "    if n % 2 == 1:\n",
    "        doubled_odds.append(n * 2)\n",
    "\n",
    "print(doubled_odds)"
   ]
  },
  {
   "cell_type": "code",
   "execution_count": 115,
   "id": "9b145f17",
   "metadata": {},
   "outputs": [
    {
     "name": "stdout",
     "output_type": "stream",
     "text": [
      "not implemented!\n"
     ]
    }
   ],
   "source": [
    "# TODO solution with list comprehensions\n",
    "\n",
    "print('not implemented!')"
   ]
  },
  {
   "cell_type": "markdown",
   "id": "60f9b2b0",
   "metadata": {},
   "source": [
    "# Lambda Functions"
   ]
  },
  {
   "cell_type": "code",
   "execution_count": 116,
   "id": "af72b6e4",
   "metadata": {},
   "outputs": [
    {
     "data": {
      "text/plain": [
       "4"
      ]
     },
     "execution_count": 116,
     "metadata": {},
     "output_type": "execute_result"
    }
   ],
   "source": [
    "def square(x):\n",
    "    return x**2\n",
    "\n",
    "square(2)"
   ]
  },
  {
   "cell_type": "markdown",
   "id": "6443b303",
   "metadata": {},
   "source": [
    "this can be rewritten as an application of an anonymous function (lambda function)"
   ]
  },
  {
   "cell_type": "code",
   "execution_count": 117,
   "id": "d060ef1b",
   "metadata": {},
   "outputs": [
    {
     "data": {
      "text/plain": [
       "4"
      ]
     },
     "execution_count": 117,
     "metadata": {},
     "output_type": "execute_result"
    }
   ],
   "source": [
    "(lambda x: x**2)(2)"
   ]
  },
  {
   "cell_type": "code",
   "execution_count": 118,
   "id": "278f9aff",
   "metadata": {},
   "outputs": [
    {
     "data": {
      "text/plain": [
       "4"
      ]
     },
     "execution_count": 118,
     "metadata": {},
     "output_type": "execute_result"
    }
   ],
   "source": [
    "square = lambda x: x**2\n",
    "\n",
    "square(2)"
   ]
  },
  {
   "cell_type": "markdown",
   "id": "1fbac3dd",
   "metadata": {},
   "source": [
    "a slightly less trivial example"
   ]
  },
  {
   "cell_type": "code",
   "execution_count": 119,
   "id": "19d1e10f",
   "metadata": {},
   "outputs": [
    {
     "data": {
      "text/plain": [
       "4"
      ]
     },
     "execution_count": 119,
     "metadata": {},
     "output_type": "execute_result"
    }
   ],
   "source": [
    "def power(y):\n",
    "    return lambda x: x**y\n",
    "\n",
    "power(2)(2)"
   ]
  },
  {
   "cell_type": "code",
   "execution_count": 120,
   "id": "22fce846",
   "metadata": {},
   "outputs": [
    {
     "name": "stdout",
     "output_type": "stream",
     "text": [
      "heyheyheyheyhey\n"
     ]
    }
   ],
   "source": [
    "# rewrite this with lambda functions\n",
    "# source https://www.datacamp.com/tutorial/python-lambda\n",
    "\n",
    "def echo_word(word1, echo):\n",
    "    \"\"\"Concatenate echo copies of word1.\"\"\"\n",
    "    words = word1 * echo\n",
    "    return words\n",
    "\n",
    "# Call echo_word: result\n",
    "result = echo_word('hey', 5)\n",
    "\n",
    "# Print result\n",
    "print(result)"
   ]
  },
  {
   "cell_type": "code",
   "execution_count": 121,
   "id": "b343bc3a",
   "metadata": {},
   "outputs": [
    {
     "name": "stdout",
     "output_type": "stream",
     "text": [
      "not implemented!\n"
     ]
    }
   ],
   "source": [
    "# TODO solution with lambda functions\n",
    "\n",
    "print('not implemented!')"
   ]
  },
  {
   "cell_type": "markdown",
   "id": "5ebd9363",
   "metadata": {},
   "source": [
    "# filter"
   ]
  },
  {
   "cell_type": "code",
   "execution_count": 122,
   "id": "af31c677",
   "metadata": {},
   "outputs": [
    {
     "name": "stdout",
     "output_type": "stream",
     "text": [
      "[0, 2, 4, 6, 8, 10]\n"
     ]
    }
   ],
   "source": [
    "numbers = [0, 1, 2, 3, 4, 5, 6, 7, 8, 9, 10]\n",
    "\n",
    "evens = []\n",
    "for i in numbers:\n",
    "    if i % 2 == 0:\n",
    "        evens.append(i)\n",
    "\n",
    "print(evens)"
   ]
  },
  {
   "cell_type": "code",
   "execution_count": 123,
   "id": "15ed77ea",
   "metadata": {},
   "outputs": [
    {
     "name": "stdout",
     "output_type": "stream",
     "text": [
      "[0, 2, 4, 6, 8, 10]\n"
     ]
    }
   ],
   "source": [
    "evens = [i for i in numbers if i % 2 == 0]\n",
    "\n",
    "print(evens)"
   ]
  },
  {
   "cell_type": "code",
   "execution_count": 124,
   "id": "d8b2d27d",
   "metadata": {},
   "outputs": [
    {
     "name": "stdout",
     "output_type": "stream",
     "text": [
      "[0, 2, 4, 6, 8, 10]\n"
     ]
    }
   ],
   "source": [
    "evens = filter(lambda x: x % 2 == 0, numbers)\n",
    "\n",
    "print(list(evens))"
   ]
  },
  {
   "cell_type": "markdown",
   "id": "d39a916e",
   "metadata": {},
   "source": [
    "# map"
   ]
  },
  {
   "cell_type": "code",
   "execution_count": 125,
   "id": "9c54e02e",
   "metadata": {},
   "outputs": [
    {
     "name": "stdout",
     "output_type": "stream",
     "text": [
      "[0, 1, 4, 9, 16, 25, 36, 49, 64, 81, 100]\n"
     ]
    }
   ],
   "source": [
    "def square(x):\n",
    "    return x**2\n",
    "\n",
    "numbers = [0, 1, 2, 3, 4, 5, 6, 7, 8, 9, 10]\n",
    "\n",
    "squares = [square(x) for x in numbers]\n",
    "\n",
    "print(squares)"
   ]
  },
  {
   "cell_type": "code",
   "execution_count": 126,
   "id": "c49c82a8",
   "metadata": {},
   "outputs": [
    {
     "name": "stdout",
     "output_type": "stream",
     "text": [
      "[0, 1, 4, 9, 16, 25, 36, 49, 64, 81, 100]\n"
     ]
    }
   ],
   "source": [
    "squares = map(square, numbers)\n",
    "\n",
    "print(list(squares))"
   ]
  },
  {
   "cell_type": "code",
   "execution_count": 127,
   "id": "82d8dbf1",
   "metadata": {},
   "outputs": [
    {
     "name": "stdout",
     "output_type": "stream",
     "text": [
      "[2, 6, 10]\n"
     ]
    }
   ],
   "source": [
    "# rewrite this with filter and map\n",
    "# source: https://treyhunner.com/2015/12/python-list-comprehensions-now-in-color/\n",
    "\n",
    "numbers = [1, 2, 3, 4, 5]\n",
    "\n",
    "doubled_odds = []\n",
    "for n in numbers:\n",
    "    if n % 2 == 1:\n",
    "        doubled_odds.append(n * 2)\n",
    "\n",
    "print(doubled_odds)"
   ]
  },
  {
   "cell_type": "code",
   "execution_count": 128,
   "id": "47e021a8",
   "metadata": {},
   "outputs": [
    {
     "name": "stdout",
     "output_type": "stream",
     "text": [
      "not implemented!\n"
     ]
    }
   ],
   "source": [
    "# TODO solution with lambda functions\n",
    "\n",
    "print('not implemented!')"
   ]
  },
  {
   "cell_type": "markdown",
   "id": "145df467",
   "metadata": {},
   "source": [
    "# reduce"
   ]
  },
  {
   "cell_type": "code",
   "execution_count": 129,
   "id": "b5bf02d8",
   "metadata": {},
   "outputs": [
    {
     "data": {
      "text/plain": [
       "55"
      ]
     },
     "execution_count": 129,
     "metadata": {},
     "output_type": "execute_result"
    }
   ],
   "source": [
    "numbers = [0, 1, 2, 3, 4, 5, 6, 7, 8, 9, 10]\n",
    "sum_n = 0\n",
    "for x in numbers:\n",
    "    sum_n += x\n",
    "    \n",
    "sum_n"
   ]
  },
  {
   "cell_type": "code",
   "execution_count": 130,
   "id": "15b27b82",
   "metadata": {},
   "outputs": [
    {
     "data": {
      "text/plain": [
       "55"
      ]
     },
     "execution_count": 130,
     "metadata": {},
     "output_type": "execute_result"
    }
   ],
   "source": [
    "from functools import reduce\n",
    "\n",
    "add = lambda x, y: x+y\n",
    "sum_n = reduce(add, numbers, 0)\n",
    "\n",
    "sum_n"
   ]
  },
  {
   "cell_type": "code",
   "execution_count": null,
   "id": "978b83a3",
   "metadata": {},
   "outputs": [],
   "source": []
  }
 ],
 "metadata": {
  "kernelspec": {
   "display_name": "Python 3 (ipykernel)",
   "language": "python",
   "name": "python3"
  },
  "language_info": {
   "codemirror_mode": {
    "name": "ipython",
    "version": 3
   },
   "file_extension": ".py",
   "mimetype": "text/x-python",
   "name": "python",
   "nbconvert_exporter": "python",
   "pygments_lexer": "ipython3",
   "version": "3.9.16"
  }
 },
 "nbformat": 4,
 "nbformat_minor": 5
}
