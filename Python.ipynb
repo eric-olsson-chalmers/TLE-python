{
 "cells": [
  {
   "cell_type": "markdown",
   "id": "7ed11e27",
   "metadata": {},
   "source": [
    "# String Formatting\n",
    "\n",
    "one often wants to output a formatted string, consisting of values interpolated into a string\n",
    "some values..."
   ]
  },
  {
   "cell_type": "code",
   "execution_count": 131,
   "id": "6982c641",
   "metadata": {},
   "outputs": [],
   "source": [
    "name = 'Bob'\n",
    "age = 40"
   ]
  },
  {
   "cell_type": "markdown",
   "id": "31b07689",
   "metadata": {},
   "source": [
    "naively, one might convert the values to strings and concatenate them together"
   ]
  },
  {
   "cell_type": "code",
   "execution_count": 132,
   "id": "10a5866c",
   "metadata": {},
   "outputs": [
    {
     "data": {
      "text/plain": [
       "'Hello, my name is Bob and I am 40 years old'"
      ]
     },
     "execution_count": 132,
     "metadata": {},
     "output_type": "execute_result"
    }
   ],
   "source": [
    "'Hello, my name is ' + name + ' and I am '+ str(age) + ' years old'"
   ]
  },
  {
   "cell_type": "markdown",
   "id": "f2aab656",
   "metadata": {},
   "source": [
    "python 2 introduced a first version of string formatting, similar to C's printf"
   ]
  },
  {
   "cell_type": "code",
   "execution_count": 133,
   "id": "6e66af54",
   "metadata": {},
   "outputs": [
    {
     "data": {
      "text/plain": [
       "'Hello, my name is Bob and I am 40 years old'"
      ]
     },
     "execution_count": 133,
     "metadata": {},
     "output_type": "execute_result"
    }
   ],
   "source": [
    "'Hello, my name is %s and I am %d years old' % (name, age)"
   ]
  },
  {
   "cell_type": "markdown",
   "id": "dc6b51b6",
   "metadata": {},
   "source": [
    "python 3 introduced a cleaner format"
   ]
  },
  {
   "cell_type": "code",
   "execution_count": 134,
   "id": "6878660a",
   "metadata": {},
   "outputs": [
    {
     "data": {
      "text/plain": [
       "'Hello, my name is Bob and I am 40 years old'"
      ]
     },
     "execution_count": 134,
     "metadata": {},
     "output_type": "execute_result"
    }
   ],
   "source": [
    "# python 3\n",
    "\n",
    "'Hello, my name is {} and I am {} years old'.format(name, age)"
   ]
  },
  {
   "cell_type": "markdown",
   "id": "4db4b755",
   "metadata": {},
   "source": [
    "and python 3.6 introduced an even nicer format!"
   ]
  },
  {
   "cell_type": "code",
   "execution_count": 135,
   "id": "d3301f84",
   "metadata": {},
   "outputs": [
    {
     "data": {
      "text/plain": [
       "'Hello, my name is Bob and I am 40 years old'"
      ]
     },
     "execution_count": 135,
     "metadata": {},
     "output_type": "execute_result"
    }
   ],
   "source": [
    "f'Hello, my name is {name} and I am {age} years old'"
   ]
  },
  {
   "cell_type": "markdown",
   "id": "21786d6e",
   "metadata": {},
   "source": [
    "# List Comprehensions\n",
    "\n",
    "one might want to compute the prime numbers less than 100\n",
    "(very non-optimal solution)"
   ]
  },
  {
   "cell_type": "code",
   "execution_count": 136,
   "id": "0dc77e48",
   "metadata": {},
   "outputs": [
    {
     "name": "stdout",
     "output_type": "stream",
     "text": [
      "[2, 3, 5, 7, 11, 13, 17, 19, 23, 29, 31, 37, 41, 43, 47, 53, 59, 61, 67, 71, 73, 79, 83, 89, 97]\n"
     ]
    }
   ],
   "source": [
    "primes = []\n",
    "\n",
    "for candidate in range(2, 100, 1):\n",
    "    prime = True\n",
    "    \n",
    "    for other in range(2, 100, 1):\n",
    "        if candidate % other == 0 and candidate != other:\n",
    "            prime = False\n",
    "            \n",
    "    if prime:\n",
    "        primes.append(candidate)\n",
    "        \n",
    "print(primes)"
   ]
  },
  {
   "attachments": {},
   "cell_type": "markdown",
   "id": "9535cc0d",
   "metadata": {},
   "source": [
    "rewriting this with a list comprehension\n",
    "\n",
    "syntax: \n",
    "\n",
    "L = [mapping_expression for element in source_list if filter_expression]\n",
    "\n"
   ]
  },
  {
   "cell_type": "code",
   "execution_count": 137,
   "id": "3f1ffe92",
   "metadata": {},
   "outputs": [
    {
     "name": "stdout",
     "output_type": "stream",
     "text": [
      "[2, 3, 5, 7, 11, 13, 17, 19, 23, 29, 31, 37, 41, 43, 47, 53, 59, 61, 67, 71, 73, 79, 83, 89, 97]\n"
     ]
    }
   ],
   "source": [
    "ints = list(range(2, 100, 1))\n",
    "\n",
    "primes = [x for x in ints\n",
    "          if all(x % y != 0 for y in ints\n",
    "                 if x != y)]\n",
    "\n",
    "print(primes)"
   ]
  },
  {
   "cell_type": "code",
   "execution_count": 138,
   "id": "645ef58a",
   "metadata": {},
   "outputs": [
    {
     "name": "stdout",
     "output_type": "stream",
     "text": [
      "[2, 6, 10]\n"
     ]
    }
   ],
   "source": [
    "# rewrite this with list comprehensions\n",
    "# source: https://treyhunner.com/2015/12/python-list-comprehensions-now-in-color/\n",
    "\n",
    "numbers = [1, 2, 3, 4, 5]\n",
    "\n",
    "doubled_odds = []\n",
    "for n in numbers:\n",
    "    if n % 2 == 1:\n",
    "        doubled_odds.append(n * 2)\n",
    "\n",
    "print(doubled_odds)"
   ]
  },
  {
   "cell_type": "code",
   "execution_count": 139,
   "id": "6f8dee14",
   "metadata": {},
   "outputs": [
    {
     "name": "stdout",
     "output_type": "stream",
     "text": [
      "not implemented!\n"
     ]
    }
   ],
   "source": [
    "# TODO solution with list comprehensions\n",
    "\n",
    "print('not implemented!')"
   ]
  },
  {
   "cell_type": "markdown",
   "id": "69211f31",
   "metadata": {},
   "source": [
    "# Lambda Functions"
   ]
  },
  {
   "cell_type": "code",
   "execution_count": 140,
   "id": "609a5c96",
   "metadata": {},
   "outputs": [
    {
     "data": {
      "text/plain": [
       "4"
      ]
     },
     "execution_count": 140,
     "metadata": {},
     "output_type": "execute_result"
    }
   ],
   "source": [
    "def square(x):\n",
    "    return x**2\n",
    "\n",
    "square(2)"
   ]
  },
  {
   "cell_type": "markdown",
   "id": "90433853",
   "metadata": {},
   "source": [
    "this can be rewritten as an application of an anonymous function (lambda function)"
   ]
  },
  {
   "cell_type": "code",
   "execution_count": 141,
   "id": "78a4667b",
   "metadata": {},
   "outputs": [
    {
     "data": {
      "text/plain": [
       "4"
      ]
     },
     "execution_count": 141,
     "metadata": {},
     "output_type": "execute_result"
    }
   ],
   "source": [
    "(lambda x: x**2)(2)"
   ]
  },
  {
   "cell_type": "code",
   "execution_count": 142,
   "id": "5e264633",
   "metadata": {},
   "outputs": [
    {
     "data": {
      "text/plain": [
       "4"
      ]
     },
     "execution_count": 142,
     "metadata": {},
     "output_type": "execute_result"
    }
   ],
   "source": [
    "square = lambda x: x**2\n",
    "\n",
    "square(2)"
   ]
  },
  {
   "cell_type": "markdown",
   "id": "184791d2",
   "metadata": {},
   "source": [
    "a slightly less trivial example"
   ]
  },
  {
   "cell_type": "code",
   "execution_count": 143,
   "id": "02ea0de6",
   "metadata": {},
   "outputs": [
    {
     "data": {
      "text/plain": [
       "4"
      ]
     },
     "execution_count": 143,
     "metadata": {},
     "output_type": "execute_result"
    }
   ],
   "source": [
    "def power(y):\n",
    "    return lambda x: x**y\n",
    "\n",
    "power(2)(2)"
   ]
  },
  {
   "cell_type": "code",
   "execution_count": 144,
   "id": "bfb885a8",
   "metadata": {},
   "outputs": [
    {
     "name": "stdout",
     "output_type": "stream",
     "text": [
      "heyheyheyheyhey\n"
     ]
    }
   ],
   "source": [
    "# rewrite this with lambda functions\n",
    "# source https://www.datacamp.com/tutorial/python-lambda\n",
    "\n",
    "def echo_word(word1, echo):\n",
    "    \"\"\"Concatenate echo copies of word1.\"\"\"\n",
    "    words = word1 * echo\n",
    "    return words\n",
    "\n",
    "# Call echo_word: result\n",
    "result = echo_word('hey', 5)\n",
    "\n",
    "# Print result\n",
    "print(result)"
   ]
  },
  {
   "cell_type": "code",
   "execution_count": 145,
   "id": "a0bb40c3",
   "metadata": {},
   "outputs": [
    {
     "name": "stdout",
     "output_type": "stream",
     "text": [
      "not implemented!\n"
     ]
    }
   ],
   "source": [
    "# TODO solution with lambda functions\n",
    "\n",
    "print('not implemented!')"
   ]
  },
  {
   "cell_type": "markdown",
   "id": "26f1cac4",
   "metadata": {},
   "source": [
    "# filter"
   ]
  },
  {
   "cell_type": "code",
   "execution_count": 146,
   "id": "ed9ae8e6",
   "metadata": {},
   "outputs": [
    {
     "name": "stdout",
     "output_type": "stream",
     "text": [
      "[0, 2, 4, 6, 8, 10]\n"
     ]
    }
   ],
   "source": [
    "numbers = [0, 1, 2, 3, 4, 5, 6, 7, 8, 9, 10]\n",
    "\n",
    "evens = []\n",
    "for i in numbers:\n",
    "    if i % 2 == 0:\n",
    "        evens.append(i)\n",
    "\n",
    "print(evens)"
   ]
  },
  {
   "cell_type": "code",
   "execution_count": 147,
   "id": "141984d1",
   "metadata": {},
   "outputs": [
    {
     "name": "stdout",
     "output_type": "stream",
     "text": [
      "[0, 2, 4, 6, 8, 10]\n"
     ]
    }
   ],
   "source": [
    "evens = [i for i in numbers if i % 2 == 0]\n",
    "\n",
    "print(evens)"
   ]
  },
  {
   "cell_type": "code",
   "execution_count": 148,
   "id": "3d4545d4",
   "metadata": {},
   "outputs": [
    {
     "name": "stdout",
     "output_type": "stream",
     "text": [
      "[0, 2, 4, 6, 8, 10]\n"
     ]
    }
   ],
   "source": [
    "evens = filter(lambda x: x % 2 == 0, numbers)\n",
    "\n",
    "print(list(evens))"
   ]
  },
  {
   "cell_type": "markdown",
   "id": "6981ca9f",
   "metadata": {},
   "source": [
    "# map"
   ]
  },
  {
   "cell_type": "code",
   "execution_count": 149,
   "id": "bc58e085",
   "metadata": {},
   "outputs": [
    {
     "name": "stdout",
     "output_type": "stream",
     "text": [
      "[0, 1, 4, 9, 16, 25, 36, 49, 64, 81, 100]\n"
     ]
    }
   ],
   "source": [
    "def square(x):\n",
    "    return x**2\n",
    "\n",
    "numbers = [0, 1, 2, 3, 4, 5, 6, 7, 8, 9, 10]\n",
    "\n",
    "squares = [square(x) for x in numbers]\n",
    "\n",
    "print(squares)"
   ]
  },
  {
   "cell_type": "code",
   "execution_count": 150,
   "id": "a23b2e91",
   "metadata": {},
   "outputs": [
    {
     "name": "stdout",
     "output_type": "stream",
     "text": [
      "[0, 1, 4, 9, 16, 25, 36, 49, 64, 81, 100]\n"
     ]
    }
   ],
   "source": [
    "squares = map(square, numbers)\n",
    "\n",
    "print(list(squares))"
   ]
  },
  {
   "cell_type": "code",
   "execution_count": 151,
   "id": "85e65b68",
   "metadata": {},
   "outputs": [
    {
     "name": "stdout",
     "output_type": "stream",
     "text": [
      "[2, 6, 10]\n"
     ]
    }
   ],
   "source": [
    "# rewrite this with filter and map\n",
    "# source: https://treyhunner.com/2015/12/python-list-comprehensions-now-in-color/\n",
    "\n",
    "numbers = [1, 2, 3, 4, 5]\n",
    "\n",
    "doubled_odds = []\n",
    "for n in numbers:\n",
    "    if n % 2 == 1:\n",
    "        doubled_odds.append(n * 2)\n",
    "\n",
    "print(doubled_odds)"
   ]
  },
  {
   "cell_type": "code",
   "execution_count": 152,
   "id": "6bc51ef9",
   "metadata": {},
   "outputs": [
    {
     "name": "stdout",
     "output_type": "stream",
     "text": [
      "not implemented!\n"
     ]
    }
   ],
   "source": [
    "# TODO solution with lambda functions\n",
    "\n",
    "print('not implemented!')"
   ]
  },
  {
   "cell_type": "markdown",
   "id": "7c33a28c",
   "metadata": {},
   "source": [
    "# reduce"
   ]
  },
  {
   "cell_type": "code",
   "execution_count": 153,
   "id": "56b9b7a5",
   "metadata": {},
   "outputs": [
    {
     "data": {
      "text/plain": [
       "55"
      ]
     },
     "execution_count": 153,
     "metadata": {},
     "output_type": "execute_result"
    }
   ],
   "source": [
    "numbers = [0, 1, 2, 3, 4, 5, 6, 7, 8, 9, 10]\n",
    "sum_n = 0\n",
    "for x in numbers:\n",
    "    sum_n += x\n",
    "    \n",
    "sum_n"
   ]
  },
  {
   "cell_type": "code",
   "execution_count": 154,
   "id": "5ac1aba7",
   "metadata": {},
   "outputs": [
    {
     "data": {
      "text/plain": [
       "55"
      ]
     },
     "execution_count": 154,
     "metadata": {},
     "output_type": "execute_result"
    }
   ],
   "source": [
    "from functools import reduce\n",
    "\n",
    "add = lambda x, y: x+y\n",
    "sum_n = reduce(add, numbers, 0)\n",
    "\n",
    "sum_n"
   ]
  },
  {
   "cell_type": "code",
   "execution_count": null,
   "id": "71ae1463",
   "metadata": {},
   "outputs": [],
   "source": []
  }
 ],
 "metadata": {
  "kernelspec": {
   "display_name": "Python 3 (ipykernel)",
   "language": "python",
   "name": "python3"
  },
  "language_info": {
   "codemirror_mode": {
    "name": "ipython",
    "version": 3
   },
   "file_extension": ".py",
   "mimetype": "text/x-python",
   "name": "python",
   "nbconvert_exporter": "python",
   "pygments_lexer": "ipython3",
   "version": "3.9.16"
  }
 },
 "nbformat": 4,
 "nbformat_minor": 5
}
