{
 "cells": [
  {
   "cell_type": "markdown",
   "id": "f4c84587",
   "metadata": {},
   "source": [
    "# String Formatting\n",
    "\n",
    "one often wants to output a formatted string, consisting of values interpolated into a string\n",
    "some values..."
   ]
  },
  {
   "cell_type": "code",
   "execution_count": 80,
   "id": "dba3cceb",
   "metadata": {},
   "outputs": [],
   "source": [
    "name = 'Bob'\n",
    "age = 40"
   ]
  },
  {
   "cell_type": "markdown",
   "id": "fc4615c0",
   "metadata": {},
   "source": [
    "naively, one might convert the values to strings and concatenate them together"
   ]
  },
  {
   "cell_type": "code",
   "execution_count": 81,
   "id": "fddbdaf5",
   "metadata": {},
   "outputs": [
    {
     "data": {
      "text/plain": [
       "'Hello, my name is Bob and I am 40 years old'"
      ]
     },
     "execution_count": 81,
     "metadata": {},
     "output_type": "execute_result"
    }
   ],
   "source": [
    "'Hello, my name is ' + name + ' and I am '+ str(age) + ' years old'"
   ]
  },
  {
   "cell_type": "markdown",
   "id": "ec6bb852",
   "metadata": {},
   "source": [
    "python 2 introduced a first version of string formatting, similar to C's printf"
   ]
  },
  {
   "cell_type": "code",
   "execution_count": 82,
   "id": "14b0bad2",
   "metadata": {},
   "outputs": [
    {
     "data": {
      "text/plain": [
       "'Hello, my name is Bob and I am 40 years old'"
      ]
     },
     "execution_count": 82,
     "metadata": {},
     "output_type": "execute_result"
    }
   ],
   "source": [
    "'Hello, my name is %s and I am %d years old' % (name, age)"
   ]
  },
  {
   "cell_type": "markdown",
   "id": "ec3f6693",
   "metadata": {},
   "source": [
    "python 3 introduced a cleaner format"
   ]
  },
  {
   "cell_type": "code",
   "execution_count": 83,
   "id": "c43d5fa6",
   "metadata": {},
   "outputs": [
    {
     "data": {
      "text/plain": [
       "'Hello, my name is Bob and I am 40 years old'"
      ]
     },
     "execution_count": 83,
     "metadata": {},
     "output_type": "execute_result"
    }
   ],
   "source": [
    "# python 3\n",
    "\n",
    "'Hello, my name is {} and I am {} years old'.format(name, age)"
   ]
  },
  {
   "cell_type": "markdown",
   "id": "58232a12",
   "metadata": {},
   "source": [
    "and python 3.6 introduced an even nicer format!"
   ]
  },
  {
   "cell_type": "code",
   "execution_count": 84,
   "id": "d33d6a56",
   "metadata": {},
   "outputs": [
    {
     "data": {
      "text/plain": [
       "'Hello, my name is Bob and I am 40 years old'"
      ]
     },
     "execution_count": 84,
     "metadata": {},
     "output_type": "execute_result"
    }
   ],
   "source": [
    "f'Hello, my name is {name} and I am {age} years old'"
   ]
  },
  {
   "cell_type": "markdown",
   "id": "ea4d3343",
   "metadata": {},
   "source": [
    "# List Comprehensions\n",
    "\n",
    "one might want to compute the prime numbers less than 100\n",
    "(very non-optimal solution)"
   ]
  },
  {
   "cell_type": "code",
   "execution_count": 85,
   "id": "c0aac945",
   "metadata": {},
   "outputs": [
    {
     "name": "stdout",
     "output_type": "stream",
     "text": [
      "[2, 3, 5, 7, 11, 13, 17, 19, 23, 29, 31, 37, 41, 43, 47, 53, 59, 61, 67, 71, 73, 79, 83, 89, 97]\n"
     ]
    }
   ],
   "source": [
    "primes = []\n",
    "\n",
    "for candidate in range(2, 100, 1):\n",
    "    prime = True\n",
    "    \n",
    "    for other in range(2, 100, 1):\n",
    "        if candidate % other == 0 and candidate != other:\n",
    "            prime = False\n",
    "            \n",
    "    if prime:\n",
    "        primes.append(candidate)\n",
    "        \n",
    "print(primes)"
   ]
  },
  {
   "attachments": {},
   "cell_type": "markdown",
   "id": "d835c300",
   "metadata": {},
   "source": [
    "rewriting this with a list comprehension\n",
    "\n",
    "syntax: \n",
    "\n",
    "L = [mapping_expression for element in source_list if filter_expression]\n",
    "\n"
   ]
  },
  {
   "cell_type": "code",
   "execution_count": 86,
   "id": "8764bae8",
   "metadata": {},
   "outputs": [
    {
     "name": "stdout",
     "output_type": "stream",
     "text": [
      "[2, 3, 5, 7, 11, 13, 17, 19, 23, 29, 31, 37, 41, 43, 47, 53, 59, 61, 67, 71, 73, 79, 83, 89, 97]\n"
     ]
    }
   ],
   "source": [
    "ints = list(range(2, 100, 1))\n",
    "\n",
    "primes = [x for x in ints\n",
    "          if all(x % y != 0 for y in ints\n",
    "                 if x != y)]\n",
    "\n",
    "print(primes)"
   ]
  },
  {
   "cell_type": "markdown",
   "id": "c55fb0a3",
   "metadata": {},
   "source": [
    "# Lambda Functions"
   ]
  },
  {
   "cell_type": "code",
   "execution_count": 87,
   "id": "e5217c1a",
   "metadata": {},
   "outputs": [
    {
     "data": {
      "text/plain": [
       "4"
      ]
     },
     "execution_count": 87,
     "metadata": {},
     "output_type": "execute_result"
    }
   ],
   "source": [
    "def square(x):\n",
    "    return x**2\n",
    "\n",
    "square(2)"
   ]
  },
  {
   "cell_type": "markdown",
   "id": "cbfa9580",
   "metadata": {},
   "source": [
    "this can be rewritten as an application of an anonymous function (lambda function)"
   ]
  },
  {
   "cell_type": "code",
   "execution_count": 88,
   "id": "5215b04a",
   "metadata": {},
   "outputs": [
    {
     "data": {
      "text/plain": [
       "4"
      ]
     },
     "execution_count": 88,
     "metadata": {},
     "output_type": "execute_result"
    }
   ],
   "source": [
    "(lambda x: x**2)(2)"
   ]
  },
  {
   "cell_type": "code",
   "execution_count": 89,
   "id": "b6baef8c",
   "metadata": {},
   "outputs": [
    {
     "data": {
      "text/plain": [
       "4"
      ]
     },
     "execution_count": 89,
     "metadata": {},
     "output_type": "execute_result"
    }
   ],
   "source": [
    "square = lambda x: x**2\n",
    "\n",
    "square(2)"
   ]
  },
  {
   "cell_type": "markdown",
   "id": "123cdbf5",
   "metadata": {},
   "source": [
    "a slightly less trivial example"
   ]
  },
  {
   "cell_type": "code",
   "execution_count": 90,
   "id": "b3f3afe5",
   "metadata": {},
   "outputs": [
    {
     "data": {
      "text/plain": [
       "4"
      ]
     },
     "execution_count": 90,
     "metadata": {},
     "output_type": "execute_result"
    }
   ],
   "source": [
    "def power(y):\n",
    "    return lambda x: x**y\n",
    "\n",
    "power(2)(2)"
   ]
  },
  {
   "cell_type": "markdown",
   "id": "5568f276",
   "metadata": {},
   "source": [
    "# filter"
   ]
  },
  {
   "cell_type": "code",
   "execution_count": 91,
   "id": "1da87d01",
   "metadata": {},
   "outputs": [
    {
     "name": "stdout",
     "output_type": "stream",
     "text": [
      "[0, 2, 4, 6, 8, 10]\n"
     ]
    }
   ],
   "source": [
    "numbers = [0, 1, 2, 3, 4, 5, 6, 7, 8, 9, 10]\n",
    "\n",
    "evens = []\n",
    "for i in numbers:\n",
    "    if i % 2 == 0:\n",
    "        evens.append(i)\n",
    "\n",
    "print(evens)"
   ]
  },
  {
   "cell_type": "code",
   "execution_count": 92,
   "id": "082bb776",
   "metadata": {},
   "outputs": [
    {
     "name": "stdout",
     "output_type": "stream",
     "text": [
      "[0, 2, 4, 6, 8, 10]\n"
     ]
    }
   ],
   "source": [
    "evens = [i for i in numbers if i % 2 == 0]\n",
    "\n",
    "print(evens)"
   ]
  },
  {
   "cell_type": "code",
   "execution_count": 93,
   "id": "12548c7d",
   "metadata": {},
   "outputs": [
    {
     "name": "stdout",
     "output_type": "stream",
     "text": [
      "[0, 2, 4, 6, 8, 10]\n"
     ]
    }
   ],
   "source": [
    "evens = filter(lambda x: x % 2 == 0, numbers)\n",
    "\n",
    "print(list(evens))"
   ]
  },
  {
   "cell_type": "markdown",
   "id": "17689912",
   "metadata": {},
   "source": [
    "# map"
   ]
  },
  {
   "cell_type": "code",
   "execution_count": 94,
   "id": "040416d7",
   "metadata": {},
   "outputs": [
    {
     "name": "stdout",
     "output_type": "stream",
     "text": [
      "[0, 1, 4, 9, 16, 25, 36, 49, 64, 81, 100]\n"
     ]
    }
   ],
   "source": [
    "def square(x):\n",
    "    return x**2\n",
    "\n",
    "numbers = [0, 1, 2, 3, 4, 5, 6, 7, 8, 9, 10]\n",
    "\n",
    "squares = [square(x) for x in numbers]\n",
    "\n",
    "print(squares)"
   ]
  },
  {
   "cell_type": "code",
   "execution_count": 95,
   "id": "9e159914",
   "metadata": {},
   "outputs": [
    {
     "name": "stdout",
     "output_type": "stream",
     "text": [
      "[0, 1, 4, 9, 16, 25, 36, 49, 64, 81, 100]\n"
     ]
    }
   ],
   "source": [
    "squares = map(square, numbers)\n",
    "\n",
    "print(list(squares))"
   ]
  },
  {
   "cell_type": "markdown",
   "id": "17bcb4f7",
   "metadata": {},
   "source": [
    "# reduce"
   ]
  },
  {
   "cell_type": "code",
   "execution_count": 96,
   "id": "671a6700",
   "metadata": {},
   "outputs": [
    {
     "data": {
      "text/plain": [
       "55"
      ]
     },
     "execution_count": 96,
     "metadata": {},
     "output_type": "execute_result"
    }
   ],
   "source": [
    "numbers = [0, 1, 2, 3, 4, 5, 6, 7, 8, 9, 10]\n",
    "sum_n = 0\n",
    "for x in numbers:\n",
    "    sum_n += x\n",
    "    \n",
    "sum_n"
   ]
  },
  {
   "cell_type": "code",
   "execution_count": 97,
   "id": "2e0efc03",
   "metadata": {},
   "outputs": [
    {
     "data": {
      "text/plain": [
       "55"
      ]
     },
     "execution_count": 97,
     "metadata": {},
     "output_type": "execute_result"
    }
   ],
   "source": [
    "from functools import reduce\n",
    "\n",
    "add = lambda x, y: x+y\n",
    "sum_n = reduce(add, numbers, 0)\n",
    "\n",
    "sum_n"
   ]
  },
  {
   "cell_type": "code",
   "execution_count": null,
   "id": "5789ffce",
   "metadata": {},
   "outputs": [],
   "source": []
  }
 ],
 "metadata": {
  "kernelspec": {
   "display_name": "Python 3 (ipykernel)",
   "language": "python",
   "name": "python3"
  },
  "language_info": {
   "codemirror_mode": {
    "name": "ipython",
    "version": 3
   },
   "file_extension": ".py",
   "mimetype": "text/x-python",
   "name": "python",
   "nbconvert_exporter": "python",
   "pygments_lexer": "ipython3",
   "version": "3.9.16"
  }
 },
 "nbformat": 4,
 "nbformat_minor": 5
}
