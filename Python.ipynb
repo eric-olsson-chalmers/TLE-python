{
 "cells": [
  {
   "cell_type": "code",
   "execution_count": 3,
   "id": "a17e623f",
   "metadata": {},
   "outputs": [
    {
     "name": "stdout",
     "output_type": "stream",
     "text": [
      "Hello, my name is Bob and I am 40 years old\n"
     ]
    }
   ],
   "source": [
    "name = 'Bob'\n",
    "age = 40\n",
    "\n",
    "print('Hello, my name is %s and I am %d years old' % (name, age))"
   ]
  },
  {
   "cell_type": "code",
   "execution_count": null,
   "id": "68d067aa",
   "metadata": {},
   "outputs": [],
   "source": []
  },
  {
   "cell_type": "code",
   "execution_count": null,
   "id": "dd1062b1",
   "metadata": {},
   "outputs": [],
   "source": []
  }
 ],
 "metadata": {
  "kernelspec": {
   "display_name": "Python 3 (ipykernel)",
   "language": "python",
   "name": "python3"
  },
  "language_info": {
   "codemirror_mode": {
    "name": "ipython",
    "version": 3
   },
   "file_extension": ".py",
   "mimetype": "text/x-python",
   "name": "python",
   "nbconvert_exporter": "python",
   "pygments_lexer": "ipython3",
   "version": "3.9.16"
  }
 },
 "nbformat": 4,
 "nbformat_minor": 5
}
